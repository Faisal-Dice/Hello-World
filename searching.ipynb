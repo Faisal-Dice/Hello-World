{
  "nbformat": 4,
  "nbformat_minor": 0,
  "metadata": {
    "colab": {
      "provenance": [],
      "authorship_tag": "ABX9TyMzvbmKz9sa59YdW8vuFvI/",
      "include_colab_link": true
    },
    "kernelspec": {
      "name": "python3",
      "display_name": "Python 3"
    },
    "language_info": {
      "name": "python"
    }
  },
  "cells": [
    {
      "cell_type": "markdown",
      "metadata": {
        "id": "view-in-github",
        "colab_type": "text"
      },
      "source": [
        "<a href=\"https://colab.research.google.com/github/Faisal-Dice/Hello-World/blob/main/searching.ipynb\" target=\"_parent\"><img src=\"https://colab.research.google.com/assets/colab-badge.svg\" alt=\"Open In Colab\"/></a>"
      ]
    },
    {
      "cell_type": "code",
      "execution_count": 5,
      "metadata": {
        "colab": {
          "base_uri": "https://localhost:8080/"
        },
        "id": "LTNKmaOVzeIA",
        "outputId": "be88f5cd-bae7-4c58-f095-00a41fbf22ac"
      },
      "outputs": [
        {
          "output_type": "stream",
          "name": "stdout",
          "text": [
            "4\n"
          ]
        }
      ],
      "source": [
        "def ans(arr, target):\n",
        "  start = 0\n",
        "  end = 1\n",
        "  while target > arr[end]:\n",
        "    temp = end + 1\n",
        "    end = end + (end - start + 1)*2\n",
        "    start = temp\n",
        "  return bs(start, end, arr, target)\n",
        "\n",
        "def bs(start, end, arr, target):\n",
        "  while start <= end:\n",
        "    mid = start + (end - start) // 2\n",
        "    if target == arr[mid]:\n",
        "      return mid\n",
        "    elif target > arr[mid]:\n",
        "      start = mid + 1\n",
        "    else:\n",
        "      end = mid - 1\n",
        "  return -1\n",
        "\n",
        "arr = [1,2,3,4,5,6,7,8]\n",
        "target = 5\n",
        "result = ans(arr, target)\n",
        "print(result)"
      ]
    },
    {
      "cell_type": "code",
      "source": [],
      "metadata": {
        "id": "PvnzeRnT1yfV"
      },
      "execution_count": null,
      "outputs": []
    }
  ]
}